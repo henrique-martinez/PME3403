{
 "cells": [
  {
   "cell_type": "markdown",
   "source": [
    "# Laboratório 2 -  Turma 22 - 13/09/2021\r\n",
    "\r\n",
    "## Henrique Martinez Rocamora (9836332)\r\n",
    "## Flávio Ferreira Menten (9836691)\r\n",
    "## Diogo Vieira (9836200)\r\n",
    "## Pedro Henrique Campos Dini (10772797)"
   ],
   "metadata": {}
  },
  {
   "cell_type": "markdown",
   "source": [
    "## Exercício 1\r\n",
    "\r\n",
    "Um telefone celular de massa m está suspenso por quatro fios flexíveis como indicado na figura, de modo que, na configuração de equilíbrio, o plano da tela do celular está horizontal. A disposição dos fios de suspensão, assim como suas dimensões, respeita a simetria indicada (planos verticais por *C* nas direções *x* e *y*). Colocando o sistema para oscilar com pequenas amplitudes nas direções *x* e *y*, deseja-se determinar o momento de inércia do celular em torno do eixo *y* que passa pelo centro de massa C ($J_{Cyy}$). Pede-se, portanto:"
   ],
   "metadata": {}
  },
  {
   "cell_type": "markdown",
   "source": [
    "![Ex1](ex1.png)"
   ],
   "metadata": {}
  },
  {
   "cell_type": "markdown",
   "source": [
    "### **1a)** Determinar as equações diferenciais dos movimentos horizontais do centro de massa *C* do celular nas direções *x* e *y*, supondo pequenas amplitudes de oscilação."
   ],
   "metadata": {}
  },
  {
   "cell_type": "markdown",
   "source": [
    "Rotação em torno do eixo y:\r\n",
    "$$\r\n",
    "J_{Oyy}  \\ddot \\Theta = -mg L \\sin \\Theta \\\\\r\n",
    "\\Theta \\approx 0 \\Rightarrow \\sin  \\Theta = \\Theta \\Rightarrow  J_{Oyy}  \\ddot \\Theta = -mg L \\Theta \\\\\r\n",
    "J_{Oyy} = J_{Cyy} + mL^2 \\\\\r\n",
    "( J_{Cyy} + mL^2) \\cdot \\ddot \\Theta = -mg L \\Theta \\\\\r\n",
    "$$\r\n",
    "Translação no eixo y:\r\n",
    "$$\r\n",
    "2T \\cos \\delta = mg \\\\\r\n",
    "m \\ddot y = -2T \\sin  \\delta = -mg \\frac{ \\sin \\delta}{\\cos \\delta} \\delta  = -mg \\tg \\delta\\\\\r\n",
    "\\delta \\approx 0 \\Rightarrow \\tg \\delta = y/L \\\\\r\n",
    "m \\ddot y = - \\frac{mg}{L} \\cdot y \\Rightarrow  \\ddot y = - \\frac{g}{L} \\cdot y\r\n",
    "$$"
   ],
   "metadata": {}
  },
  {
   "cell_type": "markdown",
   "source": [
    "### **1b)** Determinar as frequências naturais de oscilação nas duas direções."
   ],
   "metadata": {}
  },
  {
   "cell_type": "markdown",
   "source": [
    "$$\r\n",
    "\\begin{cases}\r\n",
    "    \\omega_x = \\sqrt{\\frac{mgL}{J_{Cyy}+mL^2}} \\\\\r\n",
    "    \\omega_y = \\sqrt{\\frac{g}{L} }\r\n",
    "\\end{cases}\r\n",
    "$$"
   ],
   "metadata": {}
  },
  {
   "cell_type": "markdown",
   "source": [
    "### **1c)** Combinando os resultados, calcular $J_{Cyy}$."
   ],
   "metadata": {}
  },
  {
   "cell_type": "markdown",
   "source": [
    "$$  (J_{Cyy} + mL^2) \\cdot \\omega_x^2 = mgL \\Rightarrow (\\frac{J_{Cyy}}{g^2} + m \\cdot \\frac{L^2}{g^2}) \\cdot \\omega_x^2 = m \\cdot \\frac{L}{g} \\\\\r\n",
    "(\\frac{J_{Cyy}}{g^2} + m \\cdot \\frac{1}{\\omega_y^4}) \\cdot \\omega_x^2 = m \\cdot \\frac{1}{\\omega_y^2} \\\\\r\n",
    "\\frac{J_{Cyy} \\cdot \\omega_x^2 }{g^2}  = m \\cdot \\frac{1}{\\omega_y^2} - m \\cdot \\frac{1}{\\omega_y^4} \\cdot \\omega_x^2\\\\\r\n",
    "J_{Cyy} = m g^2 \\left( \\cdot \\frac{1}{\\omega_y^2 \\cdot \\omega_x^2} -  \\cdot \\frac{1}{\\omega_y^4} \\right) \r\n",
    "$$"
   ],
   "metadata": {}
  },
  {
   "cell_type": "markdown",
   "source": [
    "## Exercício 2\r\n",
    "\r\n",
    "Utilizando o celular que será utilizado como instrumento de medida em vários dos experimentos da disciplina, apoiá-lo\r\n",
    "sobre um cilindro de pequeno diâmetro (mina de grafite, fio de arame, carga de esferográfica) de modo a verificar a posição real do centro de massa no plano *x*, *y* e o quanto ela dista do centro do retângulo externo do celular.\r\n",
    "Com base na disposição da figura e no equacionamento correspondente, suspender o celular em dois laços de fios (linha de costura ou fio dental) de mesmo comprimento, de modo a obter um valor de *L* próximo da largura do celular. Assegurar o paralelismo dos planos da suspensão (planos verticais na direção *x*) utilizando fita adesiva para fixar os fios no celular e mantendo a mesma distância entre eles no eixo de articulação (lápis, arame, etc.). Observar que as articulações *O* e *O’* sejam o mais próximo possível de pontos materiais fixos (nós nas linhas, de modo que a distância *L* se mantenha a mesma para os movimentos em *x* e *y*). Com o sistema na configuração de equilíbrio promova ajustes de inclinação para que as leituras das acelerações em *x* e *y* sejam próximas de zero.\r\n"
   ],
   "metadata": {}
  },
  {
   "cell_type": "markdown",
   "source": [
    "### **2a)** Colocando o sistema para oscilar livremente nas direções *x* e *y* registre as acelerações pelo celular e calcule, com base nas frequências de oscilação e na massa do celular (determinada com uma balança) o momento de inércia em relação ao eixo *y* pelo centro de massa *C*."
   ],
   "metadata": {}
  },
  {
   "cell_type": "markdown",
   "source": [
    "Massa do celular: 141g\r\n",
    "freq : 100Hz\r\n",
    "L=155mm "
   ],
   "metadata": {}
  },
  {
   "cell_type": "code",
   "execution_count": 4,
   "source": [
    "import pandas as pd\r\n",
    "import numpy as np\r\n",
    "import matplotlib.pyplot as plt\r\n",
    "from scipy import signal\r\n",
    "from scipy.fft import fft, fftshift, fftfreq\r\n",
    "from scipy.signal import hann, flattop, boxcar"
   ],
   "outputs": [],
   "metadata": {}
  },
  {
   "cell_type": "code",
   "execution_count": 5,
   "source": [
    "df = pd.read_csv(\"lab2q2a1-conjunto.csv\") \r\n",
    "\r\n",
    "# Sampling frequency\r\n",
    "f_s = 100 # [Hz]\r\n",
    "# Number of sample points\r\n",
    "N = 1024\r\n",
    "# sample spacing\r\n",
    "T = 1.0 / f_s\r\n",
    "\r\n",
    "x = df['Time (s)'].to_list()[:N]\r\n",
    "xf = fftfreq(N, T)[:N]\r\n",
    "\r\n",
    "y_x = df['Linear Acceleration x (m/s^2)'].to_list()[:N]\r\n",
    "yf_x = fft(y_x)\r\n",
    "\r\n",
    "y_y = df['Linear Acceleration y (m/s^2)'].to_list()[:N]\r\n",
    "yf_y = fft(y_y)\r\n",
    "\r\n",
    "y_z = df['Linear Acceleration z (m/s^2)'].to_list()[:N]\r\n",
    "yf_z = fft(y_z)\r\n",
    "\r\n",
    "# graph\r\n",
    "plt.plot(xf[1:N//2],2.0/N *np.abs(yf_x[1:N//2]))\r\n",
    "plt.plot(xf[1:N//2],2.0/N *np.abs(yf_y[1:N//2]))\r\n",
    "plt.plot(xf[1:N//2],2.0/N *np.abs(yf_z[1:N//2]))\r\n",
    "plt.title('Espectro de amplitude - exercício 2a - conjunto')\r\n",
    "plt.xlabel('Frequência (Hz)')\r\n",
    "plt.legend(['eixo x', 'eixo y', 'eixo z'])\r\n",
    "plt.xticks(range(1, 50, 3))\r\n",
    "plt.grid()\r\n",
    "plt.show()"
   ],
   "outputs": [
    {
     "output_type": "display_data",
     "data": {
      "image/png": "[encoded data removed]",
      "text/plain": [
       "<Figure size 432x288 with 1 Axes>"
      ]
     },
     "metadata": {
      "needs_background": "light"
     }
    }
   ],
   "metadata": {}
  },
  {
   "cell_type": "markdown",
   "source": [
    "### **2b)** Aplicando uma condição inicial que provoque oscilação simultânea nas duas direções, registre as acelerações nas direções *x* e *y* e verifique novamente as frequências."
   ],
   "metadata": {}
  },
  {
   "cell_type": "code",
   "execution_count": 6,
   "source": [
    "df = pd.read_csv(\"lab2q2a1-x.csv\") \r\n",
    "\r\n",
    "# Sampling frequency\r\n",
    "f_s = 100 # [Hz]\r\n",
    "# Number of sample points\r\n",
    "N = 1024\r\n",
    "# sample spacing\r\n",
    "T = 1.0 / f_s\r\n",
    "\r\n",
    "x = df['Time (s)'].to_list()[:N]\r\n",
    "xf = fftfreq(N, T)[:N]\r\n",
    "\r\n",
    "y_x = df['Linear Acceleration x (m/s^2)'].to_list()[:N]\r\n",
    "yf_x = fft(y_x)\r\n",
    "\r\n",
    "y_y = df['Linear Acceleration y (m/s^2)'].to_list()[:N]\r\n",
    "yf_y = fft(y_y)\r\n",
    "\r\n",
    "y_z = df['Linear Acceleration z (m/s^2)'].to_list()[:N]\r\n",
    "yf_z = fft(y_z)\r\n",
    "\r\n",
    "# graph\r\n",
    "plt.plot(xf[1:N//2],2.0/N *np.abs(yf_x[1:N//2]))\r\n",
    "plt.plot(xf[1:N//2],2.0/N *np.abs(yf_y[1:N//2]))\r\n",
    "plt.plot(xf[1:N//2],2.0/N *np.abs(yf_z[1:N//2]))\r\n",
    "plt.title('Espectro de amplitude - exercício 2a - x')\r\n",
    "plt.xlabel('Frequência (Hz)')\r\n",
    "plt.legend(['eixo x', 'eixo y', 'eixo z'])\r\n",
    "plt.xticks(range(1, 50, 3))\r\n",
    "plt.grid()\r\n",
    "plt.show()"
   ],
   "outputs": [
    {
     "output_type": "display_data",
     "data": {
      "image/png": "[encoded data removed]",
      "text/plain": [
       "<Figure size 432x288 with 1 Axes>"
      ]
     },
     "metadata": {
      "needs_background": "light"
     }
    }
   ],
   "metadata": {}
  },
  {
   "cell_type": "code",
   "execution_count": 7,
   "source": [
    "df = pd.read_csv(\"lab2q2a1-y.csv\") \r\n",
    "\r\n",
    "# Sampling frequency\r\n",
    "f_s = 100 # [Hz]\r\n",
    "# Number of sample points\r\n",
    "N = 1024\r\n",
    "# sample spacing\r\n",
    "T = 1.0 / f_s\r\n",
    "\r\n",
    "x = df['Time (s)'].to_list()[:N]\r\n",
    "xf = fftfreq(N, T)[:N]\r\n",
    "\r\n",
    "y_x = df['Linear Acceleration x (m/s^2)'].to_list()[:N]\r\n",
    "yf_x = fft(y_x)\r\n",
    "\r\n",
    "y_y = df['Linear Acceleration y (m/s^2)'].to_list()[:N]\r\n",
    "yf_y = fft(y_y)\r\n",
    "\r\n",
    "y_z = df['Linear Acceleration z (m/s^2)'].to_list()[:N]\r\n",
    "yf_z = fft(y_z)\r\n",
    "\r\n",
    "# graph\r\n",
    "plt.plot(xf[1:N//2],2.0/N *np.abs(yf_x[1:N//2]))\r\n",
    "plt.plot(xf[1:N//2],2.0/N *np.abs(yf_y[1:N//2]))\r\n",
    "plt.plot(xf[1:N//2],2.0/N *np.abs(yf_z[1:N//2]))\r\n",
    "plt.title('Espectro de amplitude - exercício 2a - y')\r\n",
    "plt.xlabel('Frequência (Hz)')\r\n",
    "plt.legend(['eixo x', 'eixo y', 'eixo z'])\r\n",
    "plt.xticks(range(1, 50, 3))\r\n",
    "plt.grid()\r\n",
    "plt.show()"
   ],
   "outputs": [
    {
     "output_type": "display_data",
     "data": {
      "image/png": "[encoded data removed]",
      "text/plain": [
       "<Figure size 432x288 with 1 Axes>"
      ]
     },
     "metadata": {
      "needs_background": "light"
     }
    }
   ],
   "metadata": {}
  },
  {
   "cell_type": "markdown",
   "source": [
    "### **2c)** Com base nas incertezas observadas nos valores das frequências de oscilação, na observação do comportamento dos “pontos fixos” e no valor da massa do celular, estime a incerteza no valor de $J_{Cyy}$."
   ],
   "metadata": {}
  },
  {
   "cell_type": "markdown",
   "source": [
    "### **2d)** Mudando a suspensão da direção *x* para a direção *y*, repetir o experimento para determinar o $J_{Cxx}$."
   ],
   "metadata": {}
  },
  {
   "cell_type": "markdown",
   "source": [
    "### **2e)** Comparar os resultados experimentais com os teóricos calculados para uma placa retangular de mesmas dimensões externas do celular com massa uniformemente distribuída."
   ],
   "metadata": {}
  },
  {
   "cell_type": "markdown",
   "source": [
    "Altura\t147,2 mm\r\n",
    "Largura\t69,5 mm\r\n",
    "Espessura\t8,3 mm"
   ],
   "metadata": {}
  },
  {
   "cell_type": "markdown",
   "source": [
    "## Exercício 3 \r\n",
    "\r\n",
    "Com o celular suspenso como indicado na figura, por quatro fios verticais de igual comprimento, de modo que as distâncias dos pontos de fixação dos fios no celular até a vertical pelo centro de massa seja aproximadamente a mesma, denominada aqui como *R*, pretende-se estudar a projeção do movimento do celular no plano horizontal que passa pelo centro de massa na posição de equilíbrio.\r\n",
    "Para tanto, sendo *x(t)* e *y(t)* os deslocamentos do centro de massa nas direções *x* e *y* indicadas na figura, e *θ(t)* o ângulo de giro do celular em torno do eixo *z*, pede-se:"
   ],
   "metadata": {}
  },
  {
   "cell_type": "markdown",
   "source": [
    "![Ex2](ex2.png)"
   ],
   "metadata": {}
  },
  {
   "cell_type": "markdown",
   "source": [
    "### **3a)** Determinar as equações diferenciais dos movimentos oscilatórios de pequena amplitude do celular em torno da posição de equilíbrio, supondo conhecidas suas propriedades de inércia, *L* e *R*.\r\n"
   ],
   "metadata": {}
  },
  {
   "cell_type": "markdown",
   "source": [
    "Rotação em torno do eixo z:\r\n",
    "$$\r\n",
    "J_{Czz} \\ddot \\Theta = 4 R T \\cdot  \\sin \\delta \\\\\r\n",
    "4T \\cos \\delta = mg \\Rightarrow 4T = \\frac{mg}{\\cos \\delta} \\\\\r\n",
    "J_{Czz} \\ddot \\Theta = R \\cdot mg \\cdot \\frac{\\sin \\delta }{\\cos \\delta }=  mR \\cdot \\tg \\delta= mgR \\cdot \\frac{R \\Theta}{L} \\\\\r\n",
    "J_{Czz} \\ddot \\Theta = \\frac{mgR^2}{L} \\cdot \\Theta \r\n",
    "$$\r\n",
    "\r\n",
    "Deslocamento em torno da direção y:\r\n",
    "$$\r\n",
    "4T \\cos \\delta = mg \\\\\r\n",
    "m \\ddot y = 4T \\sin y \\\\\r\n",
    "m \\ddot y = mg \\tg  \\delta \\\\\r\n",
    "m \\ddot y = mg  \\frac{y}{L} \\\\\r\n",
    "\\ddot y = \\frac{g}{L} \\cdot y\r\n",
    "$$\r\n",
    "\r\n",
    "A mesma expressão pode ser escrita para o deslocamento na direção x: \r\n",
    "$$\r\n",
    "\\ddot x = \\frac{g}{L} \\cdot x\r\n",
    "$$"
   ],
   "metadata": {}
  },
  {
   "cell_type": "markdown",
   "source": [
    "### **3b)** Determinar as frequências naturais de oscilação do sistema e os modos de vibrar."
   ],
   "metadata": {}
  },
  {
   "cell_type": "markdown",
   "source": [
    "$$\r\n",
    "\\omega_z = \\sqrt{\\frac{mR^2 \\cdot g}{J_{Czz} \\cdot L}} \\\\\r\n",
    "\\omega_x = \\omega_y = \\sqrt{\\frac{g}{L}}\r\n",
    "$$"
   ],
   "metadata": {}
  },
  {
   "cell_type": "markdown",
   "source": [
    "### **3c)** Supondo conhecidas as frequências naturais, o raio *R* e a massa m do celular, determinar o momento de inércia $J_{Czz}$ do celular em torno do eixo *z*."
   ],
   "metadata": {}
  },
  {
   "cell_type": "markdown",
   "source": [
    "$$\r\n",
    "\\omega_z^2 = \\frac{mR^2 }{J_{Czz}} \\cdot \\frac{g}{L} =  \\frac{mR^2 }{J_{Czz}} \\cdot \\omega_x^2 \\\\\r\n",
    "\\Rightarrow J_{Czz} = mR^2 \\cdot \\frac{\\omega_x^2}{\\omega_z^2}\r\n",
    "$$"
   ],
   "metadata": {}
  },
  {
   "cell_type": "markdown",
   "source": [
    "## Exercício 4\r\n",
    "\r\n",
    "Com base na disposição da figura e no equacionamento correspondente, suspender o celular em dois laços de fios (linha de costura ou fio dental) de mesmo comprimento, e providenciar um suporte para as extremidades superiores dos fios, (tábua com pregos, estrutura de arames, etc.) de modo a assegurar o mesmo comprimento e paralelismo dos fios com o sistema na posição de equilíbrio. Se na determinação da posição do centro de massa do celular foi observado algum deslocamento significativo em relação ao centro geométrico das bordas, manter o mesmo raio *R* para os pontos de suspensão dos fios.\r\n",
    "\r\n",
    "### **4a)** Colocando o sistema para oscilar no plano horizontal, aplicando condições iniciais adequadas, procure provocar movimento só na direção *x* e registre as acelerações pelo celular nas direções *x*, *y* e *z* do celular e determine a frequência natural de oscilação."
   ],
   "metadata": {}
  },
  {
   "cell_type": "markdown",
   "source": [
    "R=42mm\r\n",
    "L=258mm"
   ],
   "metadata": {}
  },
  {
   "cell_type": "markdown",
   "source": [
    "### **4b)** Repita o item anterior para provocar movimento na direção *y* e determine a frequência natural de oscilação."
   ],
   "metadata": {}
  },
  {
   "cell_type": "markdown",
   "source": [
    "### **4c)** Aplicando condições iniciais que provoquem principalmente uma oscilação angular em torno de *z*, registre as acelerações nas direções *x*, *y* e *z* do celular e determine as frequências naturais de oscilação."
   ],
   "metadata": {}
  },
  {
   "cell_type": "markdown",
   "source": [
    "### **4d)** Com base nas frequências de oscilação e na massa do celular, determine o momento de inércia do celular em relação ao eixo *z* pelo centro de massa *C* ($J_{Czz}$)."
   ],
   "metadata": {}
  },
  {
   "cell_type": "markdown",
   "source": [
    "### **4e)** Aplicando uma condição inicial que provoque oscilação simultânea nas três variáveis *x(t)*, *y(t)* e *θ(t)*, registre as acelerações nas direções *x*, *y* e *z* do celular e verifique novamente as frequências naturais. Comente os resultados."
   ],
   "metadata": {}
  },
  {
   "cell_type": "markdown",
   "source": [
    "### **4f)** Comparar o resultado experimental obtido para $J_{Czz}$ com o teórico calculado para uma placa retangular de mesmas dimensões externas do celular com massa uniformemente distribuída."
   ],
   "metadata": {}
  }
 ],
 "metadata": {
  "orig_nbformat": 4,
  "language_info": {
   "name": "python",
   "version": "3.9.6",
   "mimetype": "text/x-python",
   "codemirror_mode": {
    "name": "ipython",
    "version": 3
   },
   "pygments_lexer": "ipython3",
   "nbconvert_exporter": "python",
   "file_extension": ".py"
  },
  "kernelspec": {
   "name": "python3",
   "display_name": "Python 3.9.6 64-bit"
  },
  "interpreter": {
   "hash": "b0d0f07027c1e4d10a78d7755e5394d56d061bc0638b1e8d30da67c7ece9e9c3"
  }
 },
 "nbformat": 4,
 "nbformat_minor": 2
}