{
 "cells": [
  {
   "cell_type": "markdown",
   "source": [
    "# Laboratório 2 -  Turma 22 - 13/09/2021\r\n",
    "\r\n",
    "## Henrique Martinez Rocamora (9836332)\r\n",
    "## Flávio Ferreira Menten (9836691)\r\n",
    "## Diogo Vieira (9836200)\r\n",
    "## Pedro Henrique Campos Dini (10772797)"
   ],
   "metadata": {}
  },
  {
   "cell_type": "markdown",
   "source": [
    "## Exercício 1\r\n",
    "\r\n",
    "Um telefone celular de massa m está suspenso por quatro fios flexíveis como indicado na figura, de modo que, na configuração de equilíbrio, o plano da tela do celular está horizontal. A disposição dos fios de suspensão, assim como suas dimensões, respeita a simetria indicada (planos verticais por *C* nas direções *x* e *y*). Colocando o sistema para oscilar com pequenas amplitudes nas direções *x* e *y*, deseja-se determinar o momento de inércia do celular em torno do eixo *y* que passa pelo centro de massa C ($J_{Cyy}$). Pede-se, portanto:\r\n",
    "\r\n",
    "### **1a)** Determinar as equações diferenciais dos movimentos horizontais do centro de massa *C* do celular nas direções *x* e *y*, supondo pequenas amplitudes de oscilação."
   ],
   "metadata": {}
  },
  {
   "cell_type": "markdown",
   "source": [
    "Rotação em torno do eixo y:\r\n",
    "$$\r\n",
    "J_{Oyy}  \\ddot \\Theta = -mg L \\sin  \\Theta \\\\\r\n",
    "\\Theta \\approx 0 \\Rightarrow \\sin  \\Theta = \\Theta \\Rightarrow  J_{Oyy}  \\ddot \\Theta = -mg L \\Theta \\\\\r\n",
    "J_{Oyy} = J_{Cyy} + mL^2 \\\\\r\n",
    "( J_{Cyy} + mL^2) \\cdot \\ddot \\Theta = -mg L \\Theta \\\\\r\n",
    "$$\r\n",
    "Translação no eixo y:\r\n",
    "$$\r\n",
    "2T \\cos \\delta = mg \\\\\r\n",
    "m \\ddot y = -2T \\sin  \\delta = -mg \\frac{\\sin \\delta}{\\cos \\delta} \\delta  = -mg \\tg \\delta\\\\\r\n",
    "\\delta \\approx 0 \\Rightarrow \\tg \\delta = y/L \\\\\r\n",
    "m \\ddot y = - \\frac{mg}{L} \\cdot y \\Rightarrow  \\ddot y = - \\frac{g}{L} \\cdot y\r\n",
    "$$"
   ],
   "metadata": {}
  },
  {
   "cell_type": "markdown",
   "source": [
    "### **1b)** Determinar as frequências naturais de oscilação nas duas direções."
   ],
   "metadata": {}
  },
  {
   "cell_type": "markdown",
   "source": [
    "$$\r\n",
    "\\begin{cases}\r\n",
    "    \\omega_x = \\sqrt{\\frac{J_{Cyy}+mL^2}{mgL}} \\\\\r\n",
    "    \\omega_y = \\sqrt{\\frac{L}{g} }\r\n",
    "\\end{cases}\r\n",
    "$$"
   ],
   "metadata": {}
  },
  {
   "cell_type": "markdown",
   "source": [
    "### **1c)** Combinando os resultados, calcular $J_{Cyy}$."
   ],
   "metadata": {}
  },
  {
   "cell_type": "markdown",
   "source": [
    "$$ mgL \\omega_x^2 = J_{Cyy} + mL^2 \\Rightarrow J_{Cyy} = mgL \\omega_x^2 + mL^2 \\\\\r\n",
    "J_{Cyy} = g^2 \\left( m \\frac{L}{g} \\omega_x^2 + m \\frac{L^2}{g^2} \\right) = mg^2 \\left(  \\omega_y^2 \\omega_x^2 - \\omega_y^4 \\right)  \r\n",
    "$$"
   ],
   "metadata": {}
  },
  {
   "cell_type": "markdown",
   "source": [
    "## Exercício 2\r\n",
    "\r\n",
    "Utilizando o celular que será utilizado como instrumento de medida em vários dos experimentos da disciplina, apoiá-lo\r\n",
    "sobre um cilindro de pequeno diâmetro (mina de grafite, fio de arame, carga de esferográfica) de modo a verificar a posição real do centro de massa no plano *x*, *y* e o quanto ela dista do centro do retângulo externo do celular.\r\n",
    "Com base na disposição da figura e no equacionamento correspondente, suspender o celular em dois laços de fios (linha de costura ou fio dental) de mesmo comprimento, de modo a obter um valor de *L* próximo da largura do celular. Assegurar o paralelismo dos planos da suspensão (planos verticais na direção *x*) utilizando fita adesiva para fixar os fios no celular e mantendo a mesma distância entre eles no eixo de articulação (lápis, arame, etc.). Observar que as articulações *O* e *O’* sejam o mais próximo possível de pontos materiais fixos (nós nas linhas, de modo que a distância *L* se mantenha a mesma para os movimentos em *x* e *y*). Com o sistema na configuração de equilíbrio promova ajustes de inclinação para que as leituras das acelerações em *x* e *y* sejam próximas de zero.\r\n",
    "\r\n",
    "### **2a)** Colocando o sistema para oscilar livremente nas direções *x* e *y* registre as acelerações pelo celular e calcule, com base nas frequências de oscilação e na massa do celular (determinada com uma balança) o momento de inércia em relação ao eixo *y* pelo centro de massa *C*."
   ],
   "metadata": {}
  },
  {
   "cell_type": "markdown",
   "source": [
    "### **2b)** Aplicando uma condição inicial que provoque oscilação simultânea nas duas direções, registre as acelerações nas direções *x* e *y* e verifique novamente as frequências."
   ],
   "metadata": {}
  },
  {
   "cell_type": "markdown",
   "source": [
    "### **2c)** Com base nas incertezas observadas nos valores das frequências de oscilação, na observação do comportamento dos “pontos fixos” e no valor da massa do celular, estime a incerteza no valor de $J_{Cyy}$."
   ],
   "metadata": {}
  },
  {
   "cell_type": "markdown",
   "source": [
    "### **2d)** Mudando a suspensão da direção *x* para a direção *y*, repetir o experimento para determinar o $J_{Cxx}$."
   ],
   "metadata": {}
  },
  {
   "cell_type": "markdown",
   "source": [
    "### **2e)** Comparar os resultados experimentais com os teóricos calculados para uma placa retangular de mesmas dimensões externas do celular com massa uniformemente distribuída."
   ],
   "metadata": {}
  },
  {
   "cell_type": "markdown",
   "source": [
    "## Exercício 3 \r\n",
    "\r\n",
    "Com o celular suspenso como indicado na figura, por quatro fios verticais de igual comprimento, de modo que as distâncias dos pontos de fixação dos fios no celular até a vertical pelo centro de massa seja aproximadamente a mesma, denominada aqui como *R*, pretende-se estudar a projeção do movimento do celular no plano horizontal que passa pelo centro de massa na posição de equilíbrio.\r\n",
    "Para tanto, sendo *x(t)* e *y(t)* os deslocamentos do centro de massa nas direções *x* e *y* indicadas na figura, e *θ(t)* o ângulo de giro do celular em torno do eixo *z*, pede-se:\r\n",
    "\r\n",
    "### **3a)** Determinar as equações diferenciais dos movimentos oscilatórios de pequena amplitude do celular em torno da posição de equilíbrio, supondo conhecidas suas propriedades de inércia, *L* e *R*."
   ],
   "metadata": {}
  },
  {
   "cell_type": "markdown",
   "source": [
    "### **3b)** Determinar as frequências naturais de oscilação do sistema e os modos de vibrar."
   ],
   "metadata": {}
  },
  {
   "cell_type": "markdown",
   "source": [
    "### **3c)** Supondo conhecidas as frequências naturais, o raio *R* e a massa m do celular, determinar o momento de inércia $J_{Czz}* do celular em torno do eixo *z*."
   ],
   "metadata": {}
  },
  {
   "cell_type": "markdown",
   "source": [
    "## Exercício 4\r\n",
    "\r\n",
    "Com base na disposição da figura e no equacionamento correspondente, suspender o celular em dois laços de fios (linha de costura ou fio dental) de mesmo comprimento, e providenciar um suporte para as extremidades superiores dos fios, (tábua com pregos, estrutura de arames, etc.) de modo a assegurar o mesmo comprimento e paralelismo dos fios com o sistema na posição de equilíbrio. Se na determinação da posição do centro de massa do celular foi observado algum deslocamento significativo em relação ao centro geométrico das bordas, manter o mesmo raio *R* para os pontos de suspensão dos fios.\r\n",
    "\r\n",
    "### **4a)** Colocando o sistema para oscilar no plano horizontal, aplicando condições iniciais adequadas, procure provocar movimento só na direção *x* e registre as acelerações pelo celular nas direções *x*, *y* e *z* do celular e determine a frequência natural de oscilação."
   ],
   "metadata": {}
  },
  {
   "cell_type": "markdown",
   "source": [
    "### **4b)** Repita o item anterior para provocar movimento na direção *y* e determine a frequência natural de oscilação."
   ],
   "metadata": {}
  },
  {
   "cell_type": "markdown",
   "source": [
    "### **4c)** Aplicando condições iniciais que provoquem principalmente uma oscilação angular em torno de *z*, registre as acelerações nas direções *x*, *y* e *z* do celular e determine as frequências naturais de oscilação."
   ],
   "metadata": {}
  },
  {
   "cell_type": "markdown",
   "source": [
    "### **4d)** Com base nas frequências de oscilação e na massa do celular, determine o momento de inércia do celular em relação ao eixo *z* pelo centro de massa *C* ($J_{Czz}$)."
   ],
   "metadata": {}
  },
  {
   "cell_type": "markdown",
   "source": [
    "### **4e)** Aplicando uma condição inicial que provoque oscilação simultânea nas três variáveis *x(t)*, *y(t)* e *θ(t)*, registre as acelerações nas direções *x*, *y* e *z* do celular e verifique novamente as frequências naturais. Comente os resultados."
   ],
   "metadata": {}
  },
  {
   "cell_type": "markdown",
   "source": [
    "### **4f)** Comparar o resultado experimental obtido para $J_{Czz}$ com o teórico calculado para uma placa retangular de mesmas dimensões externas do celular com massa uniformemente distribuída."
   ],
   "metadata": {}
  }
 ],
 "metadata": {
  "orig_nbformat": 4,
  "language_info": {
   "name": "python",
   "version": "3.9.6"
  },
  "kernelspec": {
   "name": "python3",
   "display_name": "Python 3.9.6 64-bit"
  },
  "interpreter": {
   "hash": "b0d0f07027c1e4d10a78d7755e5394d56d061bc0638b1e8d30da67c7ece9e9c3"
  }
 },
 "nbformat": 4,
 "nbformat_minor": 2
}